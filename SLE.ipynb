{
  "cells": [
    {
      "cell_type": "markdown",
      "metadata": {
        "id": "view-in-github",
        "colab_type": "text"
      },
      "source": [
        "<a href=\"https://colab.research.google.com/github/Cathy-Guang/TB-drug-resistance/blob/main/SLE.ipynb\" target=\"_parent\"><img src=\"https://colab.research.google.com/assets/colab-badge.svg\" alt=\"Open In Colab\"/></a>"
      ]
    },
    {
      "cell_type": "code",
      "execution_count": 1,
      "metadata": {
        "id": "GaQNyK_DCIql"
      },
      "outputs": [],
      "source": [
        "# example of a super learner model for binary classification\n",
        "from numpy import hstack\n",
        "from numpy import vstack\n",
        "from numpy import asarray\n",
        "from sklearn.model_selection import KFold\n",
        "from sklearn.model_selection import train_test_split\n",
        "from sklearn.metrics import accuracy_score\n",
        "from sklearn.linear_model import LogisticRegression\n",
        "from sklearn.svm import SVC\n",
        "from xgboost import XGBClassifier"
      ]
    },
    {
      "cell_type": "code",
      "execution_count": 14,
      "metadata": {
        "id": "y_PJSGvCCscD"
      },
      "outputs": [],
      "source": [
        "#create a list of base models\n",
        "def get_models():\n",
        "  models = []\n",
        "  models.append(SVC(kernel='rbf',probability=True,random_state=0))\n",
        "  models.append(XGBClassifier(max_depth=9, eta = 0.4, gamma = 3))\n",
        "  return models"
      ]
    },
    {
      "cell_type": "code",
      "execution_count": 3,
      "metadata": {
        "id": "BmlpmndaFDXz"
      },
      "outputs": [],
      "source": [
        "# collect out of fold predictions form k-fold cross validation\n",
        "def get_out_of_fold_predictions(X, y, models):\n",
        "\tmeta_X, meta_y = list(), list()\n",
        "\t# define split of data\n",
        "\tkfold = KFold(n_splits=10, shuffle=True)\n",
        "\t# enumerate splits\n",
        "\tfor train_ix, test_ix in kfold.split(X):\n",
        "\t\tfold_yhats = list()\n",
        "\t\t# get data\n",
        "\t\ttrain_X, test_X = X[train_ix], X[test_ix]\n",
        "\t\ttrain_y, test_y = y[train_ix], y[test_ix]\n",
        "\t\tmeta_y.extend(test_y)\n",
        "\t\t# fit and make predictions with each sub-model\n",
        "\t\tfor model in models:\n",
        "\t\t\tmodel.fit(train_X, train_y)\n",
        "\t\t\tyhat = model.predict_proba(test_X)\n",
        "\t\t\t# store columns\n",
        "\t\t\tfold_yhats.append(yhat)\n",
        "\t\t# store fold yhats as columns\n",
        "\t\tmeta_X.append(hstack(fold_yhats))\n",
        "\treturn vstack(meta_X), asarray(meta_y)"
      ]
    },
    {
      "cell_type": "code",
      "execution_count": 4,
      "metadata": {
        "id": "iq8SHtd5Icpt"
      },
      "outputs": [],
      "source": [
        "# fit all base models on the training dataset\n",
        "def fit_base_models(X, y, models):\n",
        "\tfor model in models:\n",
        "\t\tmodel.fit(X, y)"
      ]
    },
    {
      "cell_type": "code",
      "execution_count": 5,
      "metadata": {
        "id": "o5eWRumzIiYP"
      },
      "outputs": [],
      "source": [
        "# fit a meta model\n",
        "def fit_meta_model(X, y):\n",
        "\tmodel = LogisticRegression(solver='liblinear')\n",
        "\tmodel.fit(X, y)\n",
        "\treturn model"
      ]
    },
    {
      "cell_type": "code",
      "execution_count": 6,
      "metadata": {
        "id": "FhguBBGyIm9F"
      },
      "outputs": [],
      "source": [
        "# make predictions with stacked model\n",
        "def super_learner_predictions(X, models, meta_model):\n",
        "\tmeta_X = list()\n",
        "\tfor model in models:\n",
        "\t\tyhat = model.predict_proba(X)\n",
        "\t\tmeta_X.append(yhat)\n",
        "\tmeta_X = hstack(meta_X)\n",
        "\t# predict\n",
        "\treturn meta_model.predict_proba(meta_X)"
      ]
    },
    {
      "cell_type": "code",
      "execution_count": 15,
      "metadata": {
        "colab": {
          "base_uri": "https://localhost:8080/"
        },
        "id": "UXPqsshkJRQm",
        "outputId": "6ef5f54a-3f25-4ce3-841e-79cec5efb92d"
      },
      "outputs": [
        {
          "output_type": "stream",
          "name": "stdout",
          "text": [
            "Mounted at /content/drive\n"
          ]
        }
      ],
      "source": [
        "from google.colab import drive\n",
        "drive.mount('/content/drive', force_remount=True)\n",
        "import os\n",
        "import io\n",
        "import pandas as pd\n",
        "\n",
        "GOOGLE_DRIVE_PATH_AFTER_MYDRIVE = 'TB-drug-resistance/' #change this to whatever folder your code is in\n",
        "GOOGLE_DRIVE_PATH = os.path.join('drive', 'My Drive', GOOGLE_DRIVE_PATH_AFTER_MYDRIVE)\n",
        "\n",
        "#TODO: this directory contains the csv with all results generated in this notebook will go here\n",
        "RESULTS_PATH = os.path.join(GOOGLE_DRIVE_PATH, \"results/SLE_results/PCA\")"
      ]
    },
    {
      "cell_type": "code",
      "execution_count": 18,
      "metadata": {
        "id": "E-Giy2X1Jo3j",
        "colab": {
          "base_uri": "https://localhost:8080/"
        },
        "outputId": "fce2ea0d-1ade-4bbb-99d5-34d05da12369"
      },
      "outputs": [
        {
          "output_type": "stream",
          "name": "stdout",
          "text": [
            "Meta  (1360, 4) (1360,)\n",
            "Meta  (1339, 4) (1339,)\n",
            "Meta  (3319, 4) (3319,)\n",
            "Meta  (3356, 4) (3356,)\n",
            "Meta  (1283, 4) (1283,)\n",
            "Meta  (1337, 4) (1337,)\n",
            "Meta  (690, 4) (690,)\n",
            "Meta  (2941, 4) (2941,)\n",
            "Meta  (3335, 4) (3335,)\n",
            "Meta  (2081, 4) (2081,)\n"
          ]
        }
      ],
      "source": [
        "#List of drugs\n",
        "drugs = ['AMK','CAP','EMB','INH','KAN','MOXI','OFLX','PZA','RIF','STR']\n",
        "\n",
        "#Read in datasets\n",
        "for drug in drugs:\n",
        "  #Read in train and labels\n",
        "  dataset = pd.read_csv(os.path.join(GOOGLE_DRIVE_PATH, 'PCA/X_trainData_column_modified_PCA_'+drug+'.csv'))\n",
        "  X =dataset.iloc[:,:-1].values\n",
        "  y =dataset.iloc[:,-1].values\n",
        "\n",
        "  # get models\n",
        "  models = get_models()\n",
        "  # get out of fold predictions\n",
        "  meta_X, meta_y = get_out_of_fold_predictions(X, y, models)\n",
        "  print('Meta ', meta_X.shape, meta_y.shape)\n",
        "  # fit the base model\n",
        "  fit_base_models(X, y, models)\n",
        "  # fit the meta model\n",
        "  meta_model = fit_meta_model(meta_X, meta_y)\n",
        "\n",
        "  test_data = pd.read_csv(os.path.join(GOOGLE_DRIVE_PATH, 'test_data/X_testData_column_modified_PCA_'+drug+'.csv'))\n",
        "  X_test = test_data.iloc[:,:].values\n",
        "  y_pred = super_learner_predictions(X_test, models, meta_model)\n",
        "\n",
        "  submission_data = pd.read_csv(os.path.join(GOOGLE_DRIVE_PATH, 'test_data/Y_testData_1_nolabels_'+drug+'.csv'), delimiter=',')\n",
        "  ids=submission_data.iloc[:,:1].values\n",
        "  result=list()\n",
        "  for i in range(len(ids)):\n",
        "    result.append([ ids[i,0], y_pred[i,1]])\n",
        "  result.insert(0, ['ID',drug])\n",
        "\n",
        "  #Save results\n",
        "  output = pd.DataFrame(result)\n",
        "  output.to_csv(os.path.join(RESULTS_PATH, drug+'_results.csv'),header=False, index = False)\n",
        "\n"
      ]
    }
  ],
  "metadata": {
    "colab": {
      "provenance": [],
      "include_colab_link": true
    },
    "kernelspec": {
      "display_name": "Python 3",
      "language": "python",
      "name": "python3"
    },
    "language_info": {
      "codemirror_mode": {
        "name": "ipython",
        "version": 3
      },
      "file_extension": ".py",
      "mimetype": "text/x-python",
      "name": "python",
      "nbconvert_exporter": "python",
      "pygments_lexer": "ipython3",
      "version": "3.8.5"
    }
  },
  "nbformat": 4,
  "nbformat_minor": 0
}