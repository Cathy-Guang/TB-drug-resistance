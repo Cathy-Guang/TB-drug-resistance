{
  "cells": [
    {
      "cell_type": "code",
      "execution_count": 1,
      "metadata": {
        "id": "fuska6ltK0Ht"
      },
      "outputs": [],
      "source": [
        "from sklearn.model_selection import train_test_split\n",
        "from sklearn import svm\n",
        "from sklearn import metrics\n",
        "import pandas"
      ]
    },
    {
      "cell_type": "code",
      "source": [
        "from google.colab import drive\n",
        "drive.mount('/content/drive')"
      ],
      "metadata": {
        "colab": {
          "base_uri": "https://localhost:8080/"
        },
        "id": "bnvhxIaRz870",
        "outputId": "1bbb7337-06e8-4854-861b-39c08ef03796"
      },
      "execution_count": 3,
      "outputs": [
        {
          "output_type": "stream",
          "name": "stdout",
          "text": [
            "Drive already mounted at /content/drive; to attempt to forcibly remount, call drive.mount(\"/content/drive\", force_remount=True).\n"
          ]
        }
      ]
    },
    {
      "cell_type": "code",
      "source": [
        "from google.colab import drive\n",
        "drive.mount('/content/drive', force_remount=True)\n",
        "import os\n",
        "\n",
        "GOOGLE_DRIVE_PATH_AFTER_MYDRIVE = 'TB-drug-resistance/' #change this to whatever folder your code is in\n",
        "GOOGLE_DRIVE_PATH = os.path.join('drive', 'My Drive', GOOGLE_DRIVE_PATH_AFTER_MYDRIVE)\n",
        "\n",
        "#TODO: this directory contains the csv with all results generated in this notebook will go here\n",
        "RESULTS_PATH = os.path.join(GOOGLE_DRIVE_PATH, \"results/SVM_results/PCA\")"
      ],
      "metadata": {
        "colab": {
          "base_uri": "https://localhost:8080/"
        },
        "id": "PDdMDoi0fhbz",
        "outputId": "fac7e31c-1645-44a6-8baf-3578d0cbd25c"
      },
      "execution_count": 18,
      "outputs": [
        {
          "output_type": "stream",
          "name": "stdout",
          "text": [
            "Mounted at /content/drive\n"
          ]
        }
      ]
    },
    {
      "cell_type": "code",
      "execution_count": 29,
      "metadata": {
        "id": "p-67T2MWK0Hu"
      },
      "outputs": [],
      "source": [
        "#List of drugs\n",
        "drugs = ['AMK','CAP','EMB','INH','KAN','MOXI','OFLX','PZA','RIF','STR']\n",
        "\n",
        "for drug in drugs:\n",
        "  #Read in train and test\n",
        "  X = pandas.read_csv(os.path.join(GOOGLE_DRIVE_PATH, 'PCA/X_trainData_column_modified_PCA_'+drug+'.csv'), delimiter=',')\n",
        "  Y = pandas.read_csv(os.path.join(GOOGLE_DRIVE_PATH, 'test_data/X_testData_column_modified_PCA_'+drug+'.csv'), delimiter=',')\n",
        "\n",
        "  #Create and train model\n",
        "  clf = svm.SVC(kernel='rbf', probability=True)\n",
        "\n",
        "  #clf.fit(X[X.columns[0:219]], X[X.columns[219]])\n",
        "  clf.fit(X[X.columns[0:155]], X[X.columns[155]])\n",
        "  #y_pred = clf.predict_proba(Y[Y.columns[0:219]])\n",
        "  y_pred = clf.predict_proba(Y[Y.columns[0:155]])\n",
        "\n",
        "  #Store results in submission template\n",
        "  submission_data = pandas.read_csv(os.path.join(GOOGLE_DRIVE_PATH, 'test_data/Y_testData_1_nolabels_'+drug+'.csv'), delimiter=',')\n",
        "  ids=submission_data.iloc[:,:1].values\n",
        "  result=list()\n",
        "  for i in range(len(ids)):\n",
        "      result.append([ ids[i,0], y_pred[i,1]])\n",
        "  result.insert(0, ['ID',drug])\n",
        "\n",
        "  #Save results\n",
        "  output = pandas.DataFrame(result)\n",
        "  output.to_csv(os.path.join(RESULTS_PATH, drug+'_results.csv'),header=False, index = False)"
      ]
    }
  ],
  "metadata": {
    "kernelspec": {
      "display_name": "Python 3",
      "language": "python",
      "name": "python3"
    },
    "language_info": {
      "codemirror_mode": {
        "name": "ipython",
        "version": 3
      },
      "file_extension": ".py",
      "mimetype": "text/x-python",
      "name": "python",
      "nbconvert_exporter": "python",
      "pygments_lexer": "ipython3",
      "version": "3.8.5"
    },
    "colab": {
      "provenance": []
    }
  },
  "nbformat": 4,
  "nbformat_minor": 0
}