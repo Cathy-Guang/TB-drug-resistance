{
  "cells": [
    {
      "cell_type": "markdown",
      "metadata": {
        "id": "view-in-github"
      },
      "source": [
        "<a href=\"https://colab.research.google.com/github/harsh-sengar/tuberculosis-drug-resistance-classification/blob/master/tuberculosisMachineLearning.ipynb\" target=\"_parent\"><img src=\"https://colab.research.google.com/assets/colab-badge.svg\" alt=\"Open In Colab\"/></a>"
      ]
    },
    {
      "cell_type": "code",
      "execution_count": 1,
      "metadata": {
        "id": "golTjSGs_Yyd"
      },
      "outputs": [],
      "source": [
        "from google.colab import drive\n",
        "import os\n",
        "import pandas as pd\n",
        "import numpy as np\n",
        "from xgboost import XGBClassifier\n",
        "from sklearn.preprocessing import MultiLabelBinarizer\n",
        "from sklearn.multioutput import MultiOutputClassifier\n",
        "from sklearn.metrics import accuracy_score"
      ]
    },
    {
      "cell_type": "code",
      "execution_count": 2,
      "metadata": {
        "id": "NqrssV1zUIyw",
        "colab": {
          "base_uri": "https://localhost:8080/"
        },
        "outputId": "efea735a-8298-4d0e-ca23-78824d017569"
      },
      "outputs": [
        {
          "output_type": "stream",
          "name": "stdout",
          "text": [
            "Mounted at /content/drive\n"
          ]
        }
      ],
      "source": [
        "drive.mount('/content/drive', force_remount=True)"
      ]
    },
    {
      "cell_type": "code",
      "source": [
        "GOOGLE_DRIVE_PATH_AFTER_MYDRIVE = 'TB-drug-resistance/' #change this to whatever folder your code is in\n",
        "GOOGLE_DRIVE_PATH = os.path.join('drive', 'My Drive', GOOGLE_DRIVE_PATH_AFTER_MYDRIVE)\n",
        "\n",
        "#TODO: this directory contains the csv with all results generated in this notebook will go here\n",
        "RESULTS_PATH = os.path.join(GOOGLE_DRIVE_PATH, \"results/XGBoost_results/column_modified\")"
      ],
      "metadata": {
        "id": "vhQmQ7CJBl3Z"
      },
      "execution_count": 12,
      "outputs": []
    },
    {
      "cell_type": "code",
      "execution_count": 14,
      "metadata": {
        "id": "N60knFEZFtl2",
        "colab": {
          "base_uri": "https://localhost:8080/"
        },
        "outputId": "5766cebb-e47d-4485-efd9-cc3ce1309334"
      },
      "outputs": [
        {
          "output_type": "stream",
          "name": "stderr",
          "text": [
            "/usr/local/lib/python3.10/dist-packages/xgboost/core.py:160: UserWarning: [19:03:51] WARNING: /workspace/src/learner.cc:742: \n",
            "Parameters: { \"nrounds\" } are not used.\n",
            "\n",
            "  warnings.warn(smsg, UserWarning)\n",
            "/usr/local/lib/python3.10/dist-packages/xgboost/core.py:160: UserWarning: [19:03:52] WARNING: /workspace/src/learner.cc:742: \n",
            "Parameters: { \"nrounds\" } are not used.\n",
            "\n",
            "  warnings.warn(smsg, UserWarning)\n",
            "/usr/local/lib/python3.10/dist-packages/xgboost/core.py:160: UserWarning: [19:03:56] WARNING: /workspace/src/learner.cc:742: \n",
            "Parameters: { \"nrounds\" } are not used.\n",
            "\n",
            "  warnings.warn(smsg, UserWarning)\n",
            "/usr/local/lib/python3.10/dist-packages/xgboost/core.py:160: UserWarning: [19:03:56] WARNING: /workspace/src/learner.cc:742: \n",
            "Parameters: { \"nrounds\" } are not used.\n",
            "\n",
            "  warnings.warn(smsg, UserWarning)\n",
            "/usr/local/lib/python3.10/dist-packages/xgboost/core.py:160: UserWarning: [19:03:57] WARNING: /workspace/src/learner.cc:742: \n",
            "Parameters: { \"nrounds\" } are not used.\n",
            "\n",
            "  warnings.warn(smsg, UserWarning)\n",
            "/usr/local/lib/python3.10/dist-packages/xgboost/core.py:160: UserWarning: [19:03:57] WARNING: /workspace/src/learner.cc:742: \n",
            "Parameters: { \"nrounds\" } are not used.\n",
            "\n",
            "  warnings.warn(smsg, UserWarning)\n",
            "/usr/local/lib/python3.10/dist-packages/xgboost/core.py:160: UserWarning: [19:03:58] WARNING: /workspace/src/learner.cc:742: \n",
            "Parameters: { \"nrounds\" } are not used.\n",
            "\n",
            "  warnings.warn(smsg, UserWarning)\n",
            "/usr/local/lib/python3.10/dist-packages/xgboost/core.py:160: UserWarning: [19:03:58] WARNING: /workspace/src/learner.cc:742: \n",
            "Parameters: { \"nrounds\" } are not used.\n",
            "\n",
            "  warnings.warn(smsg, UserWarning)\n",
            "/usr/local/lib/python3.10/dist-packages/xgboost/core.py:160: UserWarning: [19:03:59] WARNING: /workspace/src/learner.cc:742: \n",
            "Parameters: { \"nrounds\" } are not used.\n",
            "\n",
            "  warnings.warn(smsg, UserWarning)\n",
            "/usr/local/lib/python3.10/dist-packages/xgboost/core.py:160: UserWarning: [19:04:00] WARNING: /workspace/src/learner.cc:742: \n",
            "Parameters: { \"nrounds\" } are not used.\n",
            "\n",
            "  warnings.warn(smsg, UserWarning)\n"
          ]
        }
      ],
      "source": [
        "#List of drugs\n",
        "drugs = ['AMK','CAP','EMB','INH','KAN','MOXI','OFLX','PZA','RIF','STR']\n",
        "\n",
        "#Read in datasets\n",
        "for drug in drugs:\n",
        "  #Read in train and test\n",
        "  X = pd.read_csv(os.path.join(GOOGLE_DRIVE_PATH, 'column_modified/X_trainData_column_modified_'+drug+'.csv'), delimiter=',')\n",
        "  Y = pd.read_csv(os.path.join(GOOGLE_DRIVE_PATH, 'test_data/final_X_testData_column_modified_'+drug+'.csv'), delimiter=',')\n",
        "\n",
        "  #Create and train model\n",
        "  clf = XGBClassifier(max_depth=7, eta = 0.4, gamma = 1.5, nrounds = 100)\n",
        "  clf.fit(X[X.columns[0:219]], X[X.columns[219]])\n",
        "  #clf.fit(X[X.columns[0:155]], X[X.columns[155]])\n",
        "  y_pred = clf.predict_proba(Y[Y.columns[0:219]])\n",
        "  #y_pred = clf.predict_proba(Y[Y.columns[0:155]])\n",
        "\n",
        "  #Store results in submission template\n",
        "  submission_data = pd.read_csv(os.path.join(GOOGLE_DRIVE_PATH, 'test_data/Y_testData_1_nolabels_'+drug+'.csv'), delimiter=',')\n",
        "  ids=submission_data.iloc[:,:1].values\n",
        "  result=list()\n",
        "  for i in range(len(ids)):\n",
        "      result.append([ ids[i,0], y_pred[i,1]])\n",
        "  result.insert(0, ['ID',drug])\n",
        "\n",
        "  #Save results\n",
        "  output = pd.DataFrame(result)\n",
        "  output.to_csv(os.path.join(RESULTS_PATH, drug+'_results.csv'),header=False, index = False)\n"
      ]
    }
  ],
  "metadata": {
    "colab": {
      "provenance": []
    },
    "kernelspec": {
      "display_name": "Python 3",
      "language": "python",
      "name": "python3"
    },
    "language_info": {
      "codemirror_mode": {
        "name": "ipython",
        "version": 3
      },
      "file_extension": ".py",
      "mimetype": "text/x-python",
      "name": "python",
      "nbconvert_exporter": "python",
      "pygments_lexer": "ipython3",
      "version": "3.7.6"
    }
  },
  "nbformat": 4,
  "nbformat_minor": 0
}